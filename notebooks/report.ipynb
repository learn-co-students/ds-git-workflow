{
 "cells": [
  {
   "cell_type": "code",
   "execution_count": null,
   "id": "341028ec-d208-479c-a491-c1e4c1744e20",
   "metadata": {},
   "outputs": [],
   "source": [
    "def Function(person):\n",
    "    if person=='matt':\n",
    "        return 'Winner of bakeoff'\n",
    "    else:\n",
    "        return 'Sad loser'"
   ]
  }
 ],
 "metadata": {
  "kernelspec": {
   "display_name": "Python 3",
   "language": "python",
   "name": "python3"
  },
  "language_info": {
   "codemirror_mode": {
    "name": "ipython",
    "version": 3
   },
   "file_extension": ".py",
   "mimetype": "text/x-python",
   "name": "python",
   "nbconvert_exporter": "python",
   "pygments_lexer": "ipython3",
   "version": "3.7.4"
  }
 },
 "nbformat": 4,
 "nbformat_minor": 5
}